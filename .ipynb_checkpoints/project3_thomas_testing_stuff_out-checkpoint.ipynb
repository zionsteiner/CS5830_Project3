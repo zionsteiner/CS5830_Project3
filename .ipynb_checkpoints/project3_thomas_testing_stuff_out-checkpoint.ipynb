{
 "cells": [
  {
   "cell_type": "code",
   "execution_count": 3,
   "metadata": {},
   "outputs": [],
   "source": [
    "import tweepy\n",
    "import pandas as pd\n",
    "import os\n",
    "import seaborn as sns\n",
    "import matplotlib.pyplot as plt\n",
    "import preprocessor\n",
    "\n",
    "from textblob import TextBlob"
   ]
  },
  {
   "cell_type": "code",
   "execution_count": 4,
   "metadata": {},
   "outputs": [],
   "source": [
    "# Authenticate\n",
    "KEY = 'hbIPu0wGt1gqCIiSPmqB48dbW'\n",
    "SECRET_KEY = 'buwFTDAsZchwZZ5sOU1O5MAmB9Tx4ocJZ60QvLzJqpT6NV34WE'\n",
    "auth = tweepy.AppAuthHandler(KEY, SECRET_KEY)\n",
    "api = tweepy.API(auth)"
   ]
  },
  {
   "cell_type": "code",
   "execution_count": 5,
   "metadata": {},
   "outputs": [],
   "source": [
    "# Setup dataframe\n",
    "df = pd.DataFrame(columns=['city', 'term', 'tweet', 'time'])"
   ]
  },
  {
   "cell_type": "code",
   "execution_count": null,
   "metadata": {},
   "outputs": [],
   "source": [
    "# Gather tweets\n",
    "terms = ['49ers', 'chiefs', 'superbowl']\n",
    "cities = ['sf', 'kc']\n",
    "coords = {'sf': '37.773972,-122.431297,25mi',\n",
    "          'kc': '39.099724,-94.578331,25mi'}\n",
    "\n",
    "for city in cities:\n",
    "    for term in terms:\n",
    "        for tweet in tweepy.Cursor(api.search,\n",
    "                                q=term,\n",
    "                                geocode=coords[city]).items(500):\n",
    "            df = df.append({'city': city,\n",
    "                            'term': term,\n",
    "                            'tweet': tweet.text,\n",
    "                            'time': tweet.created_at},\n",
    "                           ignore_index=True)"
   ]
  },
  {
   "cell_type": "markdown",
   "metadata": {},
   "source": [
    "# Superbowl Sentiment Analysis\n",
    "#### **Questions**\n",
    "* What does each city (SanFran, Kansas City) think of their NFL team's Superbowl opponent?\n",
    "* What does each city think of their own NFL team?\n",
    "* What are each cities thoughts on the outcome of the game compared to the day before the game?"
   ]
  },
  {
   "cell_type": "code",
   "execution_count": null,
   "metadata": {},
   "outputs": [],
   "source": [
    "# Clean tweets\n",
    "df['tweet'] = df['tweet'].apply(preprocessor.clean)"
   ]
  }
 ],
 "metadata": {
  "kernelspec": {
   "display_name": "Python 3",
   "language": "python",
   "name": "python3"
  },
  "language_info": {
   "codemirror_mode": {
    "name": "ipython",
    "version": 3
   },
   "file_extension": ".py",
   "mimetype": "text/x-python",
   "name": "python",
   "nbconvert_exporter": "python",
   "pygments_lexer": "ipython3",
   "version": "3.7.1"
  }
 },
 "nbformat": 4,
 "nbformat_minor": 4
}
